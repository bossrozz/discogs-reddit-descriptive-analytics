{
 "cells": [
  {
   "cell_type": "code",
   "execution_count": null,
   "metadata": {
    "ExecuteTime": {
     "end_time": "2022-10-21T02:44:20.606975Z",
     "start_time": "2022-10-21T02:44:20.099134Z"
    }
   },
   "outputs": [],
   "source": [
    "import pandas as pd\n",
    "import glob\n",
    "import sqlite3\n",
    "\n",
    "import zstandard\n",
    "import os\n",
    "import json\n",
    "import sys\n",
    "from datetime import datetime\n",
    "import logging.handlers\n",
    "\n",
    "pd.set_option('display.max_columns', 100)"
   ]
  },
  {
   "cell_type": "markdown",
   "metadata": {},
   "source": [
    "## Filtering to music-related subreddits"
   ]
  },
  {
   "cell_type": "code",
   "execution_count": null,
   "metadata": {
    "ExecuteTime": {
     "end_time": "2022-10-20T14:39:10.038079Z",
     "start_time": "2022-10-20T14:39:08.239012Z"
    }
   },
   "outputs": [],
   "source": [
    "subrd_df = pd.read_csv('/mnt/data/public/reddit/subreddits/subreddits_basic.csv', \n",
    "                 names=['base10 id', 'reddit base36 id', 'creation epoch', 'subreddit name', 'number of subscribers'])\n",
    "subrd_df.head()"
   ]
  },
  {
   "cell_type": "code",
   "execution_count": null,
   "metadata": {
    "ExecuteTime": {
     "end_time": "2022-10-20T14:39:11.471396Z",
     "start_time": "2022-10-20T14:39:10.042114Z"
    }
   },
   "outputs": [],
   "source": [
    "subrd_df['number of subscribers'] = subrd_df['number of subscribers'].replace('None', '0').astype('float')\n",
    "\n",
    "search = ['music', 'playlist', 'spotify']\n",
    "music_subrd = subrd_df[subrd_df['subreddit name'].fillna('').str.contains('|'.join(search),\n",
    "                             case=False)].sort_values('number of subscribers', ascending=False)\n",
    "\n",
    "print(f\"Number of music-related subreddits: {len(music_subrd)}\")\n",
    "music_subrd.head()"
   ]
  },
  {
   "cell_type": "code",
   "execution_count": null,
   "metadata": {
    "ExecuteTime": {
     "end_time": "2022-10-20T14:39:12.879924Z",
     "start_time": "2022-10-20T14:39:11.473194Z"
    }
   },
   "outputs": [],
   "source": [
    "import matplotlib.pyplot as plt\n",
    "import numpy as np\n",
    "\n",
    "np.quantile(music_subrd['number of subscribers'], 0.75)"
   ]
  },
  {
   "cell_type": "code",
   "execution_count": null,
   "metadata": {
    "ExecuteTime": {
     "end_time": "2022-10-20T14:39:12.898175Z",
     "start_time": "2022-10-20T14:39:12.883279Z"
    }
   },
   "outputs": [],
   "source": [
    "music_subrd = music_subrd[music_subrd['number of subscribers'] >= 40]\n",
    "music_subrd.tail()"
   ]
  },
  {
   "cell_type": "code",
   "execution_count": null,
   "metadata": {
    "ExecuteTime": {
     "end_time": "2022-10-20T14:39:12.977124Z",
     "start_time": "2022-10-20T14:39:12.900152Z"
    }
   },
   "outputs": [],
   "source": [
    "music_subrd[music_subrd.duplicated()]"
   ]
  },
  {
   "cell_type": "code",
   "execution_count": null,
   "metadata": {
    "ExecuteTime": {
     "end_time": "2022-10-20T14:39:12.981759Z",
     "start_time": "2022-10-20T14:39:12.978864Z"
    }
   },
   "outputs": [],
   "source": [
    "music_subrd_ls = music_subrd['subreddit name'].tolist()"
   ]
  },
  {
   "cell_type": "code",
   "execution_count": null,
   "metadata": {
    "ExecuteTime": {
     "end_time": "2022-10-20T14:39:12.986391Z",
     "start_time": "2022-10-20T14:39:12.983609Z"
    }
   },
   "outputs": [],
   "source": [
    "dbname = 'discogs-reddit.db'\n",
    "conn = sqlite3.connect(dbname)\n",
    "\n",
    "music_subrd.to_sql('subreddits', conn, if_exists='append', index=False)"
   ]
  },
  {
   "cell_type": "markdown",
   "metadata": {},
   "source": [
    "## Reddit Submissions"
   ]
  },
  {
   "cell_type": "code",
   "execution_count": null,
   "metadata": {
    "ExecuteTime": {
     "end_time": "2022-10-20T14:39:13.004995Z",
     "start_time": "2022-10-20T14:39:12.988562Z"
    },
    "scrolled": true
   },
   "outputs": [],
   "source": [
    "log = logging.getLogger(\"bot\")\n",
    "log.setLevel(logging.DEBUG)\n",
    "log.addHandler(logging.StreamHandler())\n",
    "\n",
    "\n",
    "def read_lines_zst(file_name):\n",
    "    \"\"\"Stream reader of zstd compressed files\"\"\"\n",
    "    with open(file_name, 'rb') as file_handle:\n",
    "        buffer = ''\n",
    "        reader = zstandard.ZstdDecompressor(max_window_size=2**31).stream_reader(file_handle)\n",
    "        while True:\n",
    "            try:\n",
    "                chunk = reader.read(2**27).decode()\n",
    "            except:\n",
    "                chunk = reader.read(2**27).decode('latin-1')\n",
    "                            \n",
    "            if not chunk:\n",
    "                break\n",
    "            \n",
    "            lines = (buffer + chunk).split(\"\\n\")\n",
    "\n",
    "            for line in lines[:-1]:\n",
    "                yield line, file_handle.tell()\n",
    "\n",
    "            buffer = lines[-1]\n",
    "        reader.close()\n",
    "\n",
    "\n",
    "def pull_submissions(file_path, conn):\n",
    "    \"\"\"Main function to pull Reddit post submissions.\n",
    "    Writes unpacked Reddit files to a table in the \n",
    "    SQLite database\n",
    "    \"\"\"\n",
    "    print(f'Pulling data from {file_path}...')\n",
    "    file_size = os.stat(file_path).st_size\n",
    "    file_lines = 0\n",
    "    file_bytes_processed = 0\n",
    "    created = None\n",
    "    field = \"subreddit\"\n",
    "    value_list = music_subrd_ls.copy() # from subreddits data\n",
    "    bad_lines = 0\n",
    "    data = list()\n",
    "\n",
    "    try:\n",
    "        for line, file_bytes_processed in read_lines_zst(file_path):\n",
    "            try:\n",
    "                obj = json.loads(line)\n",
    "                created = datetime.utcfromtimestamp(int(obj['created_utc']))\n",
    "                music_rel_check = obj[field] in value_list\n",
    "                if music_rel_check:\n",
    "                    data.append(obj)\n",
    "            except (KeyError, json.JSONDecodeError) as err:\n",
    "                bad_lines += 1\n",
    "            file_lines += 1\n",
    "            if file_lines % 100_000 == 0:\n",
    "                log.info(f\"{created.strftime('%Y-%m-%d %H:%M:%S')} : {file_lines:,} : {bad_lines:,} : {(file_bytes_processed / file_size) * 100:.0f}%\")\n",
    "    except Exception as err:\n",
    "        log.info(err)\n",
    "    \n",
    "    subm_df = pd.DataFrame(data)\n",
    "    \n",
    "    for i in subm_df.columns:\n",
    "        subm_df[i] = subm_df[i].apply(json.dumps)\n",
    "    \n",
    "    file_cols = ['all_awardings', 'allow_live_comments', 'archived', 'author', 'author_created_utc',\n",
    "                 'author_flair_background_color', 'author_flair_css_class', 'author_flair_richtext',\n",
    "                 'author_flair_template_id', 'author_flair_text', 'author_flair_text_color',\n",
    "                 'author_flair_type', 'author_fullname', 'author_patreon_flair', 'author_premium',\n",
    "                 'awarders', 'banned_by', 'can_gild', 'can_mod_post', 'category', 'content_categories',\n",
    "                 'contest_mode', 'created_utc', 'discussion_type', 'distinguished', 'domain', 'edited',\n",
    "                 'gilded', 'gildings', 'hidden', 'hide_score', 'id', 'is_created_from_ads_ui',\n",
    "                 'is_crosspostable', 'is_meta', 'is_original_content', 'is_reddit_media_domain',\n",
    "                 'is_robot_indexable', 'is_self', 'is_video', 'link_flair_background_color',\n",
    "                 'link_flair_css_class', 'link_flair_richtext', 'link_flair_template_id',\n",
    "                 'link_flair_text', 'link_flair_text_color', 'link_flair_type', 'locked', 'media',\n",
    "                 'media_embed', 'media_only', 'name', 'no_follow', 'num_comments', 'num_crossposts',\n",
    "                 'over_18', 'parent_whitelist_status', 'permalink', 'pinned', 'post_hint', 'preview',\n",
    "                 'pwls', 'quarantine', 'removed_by', 'removed_by_category', 'retrieved_on',\n",
    "                 'retrieved_utc', 'score', 'secure_media', 'secure_media_embed', 'selftext',\n",
    "                 'send_replies', 'spoiler', 'stickied', 'subreddit', 'subreddit_id', 'subreddit_name_prefixed',\n",
    "                 'subreddit_subscribers', 'subreddit_type', 'suggested_sort', 'thumbnail', 'thumbnail_height',\n",
    "                 'thumbnail_width', 'title', 'top_awarded_type', 'total_awards_received', 'treatment_tags',\n",
    "                 'upvote_ratio', 'url', 'url_overridden_by_dest', 'view_count', 'whitelist_status', 'wls',\n",
    "                 'crosspost_parent', 'crosspost_parent_list', 'gallery_data', 'is_gallery', 'media_metadata',\n",
    "                 'author_cakeday', 'poll_data', 'call_to_action', 'live_audio', 'event_end', 'event_is_live',\n",
    "                 'event_start']\n",
    "    \n",
    "    subm_t_db = pd.DataFrame(columns=file_cols)    \n",
    "    loop_cols = [x for x in subm_df.columns if x in file_cols]\n",
    " \n",
    "    try:\n",
    "        subm_t_db = pd.concat([subm_t_db, subm_df[loop_cols]], axis=0, ignore_index=True)\n",
    "        subm_t_db.to_sql('reddit_submissions', conn, if_exists='append', index=False)\n",
    "\n",
    "    except Exception as e:\n",
    "        print(e)\n",
    "        subm_df.to_sql(f'reddit_submissions_{created.strftime(\"%Y_%m\")}', conn, if_exists='append', index=False)"
   ]
  },
  {
   "cell_type": "code",
   "execution_count": null,
   "metadata": {
    "ExecuteTime": {
     "end_time": "2022-10-20T14:39:13.010631Z",
     "start_time": "2022-10-20T14:39:13.007101Z"
    },
    "scrolled": true
   },
   "outputs": [],
   "source": [
    "dbname = 'discogs-reddit.db'\n",
    "\n",
    "conn = sqlite3.connect(dbname)\n",
    "file_paths = glob.glob('/mnt/data/public/reddit/submissions/RS_2022*.zst')\n",
    "\n",
    "for file_path in file_paths:\n",
    "    pull_submissions(file_path, conn)"
   ]
  },
  {
   "cell_type": "code",
   "execution_count": null,
   "metadata": {
    "ExecuteTime": {
     "end_time": "2022-10-20T14:39:49.390836Z",
     "start_time": "2022-10-20T14:39:13.013740Z"
    }
   },
   "outputs": [],
   "source": [
    "dbname = 'discogs-reddit.db'\n",
    "\n",
    "conn = sqlite3.connect(dbname)\n",
    "\n",
    "file_cols = ['author', 'author_created_utc', 'author_premium',\n",
    "            'created_utc', 'distinguished', 'edited',\n",
    "            'id', 'is_crosspostable', 'is_original_content', \n",
    "            'no_follow', 'num_comments', 'num_crossposts',\n",
    "            'over_18', 'permalink', 'post_hint',\n",
    "            'removed_by_category', 'score', 'selftext',\n",
    "            'send_replies', 'spoiler', 'stickied', 'subreddit', 'subreddit_id',\n",
    "            'subreddit_subscribers', 'subreddit_type','title', \n",
    "            'top_awarded_type', 'total_awards_received',\n",
    "            'upvote_ratio', 'url']\n",
    "\n",
    "sql_cols = ', '.join(file_cols)\n",
    "\n",
    "music_subm = pd.read_sql(f'SELECT {sql_cols} FROM reddit_submissions', conn)\n",
    "music_subm.shape"
   ]
  },
  {
   "cell_type": "code",
   "execution_count": null,
   "metadata": {
    "ExecuteTime": {
     "end_time": "2022-10-20T14:39:49.420145Z",
     "start_time": "2022-10-20T14:39:49.394451Z"
    },
    "scrolled": true
   },
   "outputs": [],
   "source": [
    "music_subm.head()"
   ]
  },
  {
   "cell_type": "code",
   "execution_count": null,
   "metadata": {
    "ExecuteTime": {
     "end_time": "2022-10-20T14:40:15.508163Z",
     "start_time": "2022-10-20T14:39:49.422499Z"
    }
   },
   "outputs": [],
   "source": [
    "str_cols = ['author', 'permalink', 'post_hint',\n",
    "            'removed_by_category', 'selftext',\n",
    "            'subreddit', 'subreddit_id',\n",
    "            'subreddit_type','title', \n",
    "            'top_awarded_type', 'url', 'id']\n",
    "\n",
    "for i in str_cols:\n",
    "    music_subm[i] = music_subm[i].apply(json.loads)"
   ]
  },
  {
   "cell_type": "code",
   "execution_count": null,
   "metadata": {
    "ExecuteTime": {
     "end_time": "2022-10-20T14:40:18.577287Z",
     "start_time": "2022-10-20T14:40:15.511634Z"
    }
   },
   "outputs": [],
   "source": [
    "num_cols = ['num_comments', 'num_crossposts',\n",
    "            'score', 'subreddit_subscribers', 'total_awards_received']\n",
    "\n",
    "for i in num_cols:\n",
    "    music_subm[i] = music_subm[i].astype('int64')"
   ]
  },
  {
   "cell_type": "code",
   "execution_count": null,
   "metadata": {
    "ExecuteTime": {
     "end_time": "2022-10-20T14:40:21.122569Z",
     "start_time": "2022-10-20T14:40:18.579511Z"
    },
    "scrolled": true
   },
   "outputs": [],
   "source": [
    "music_subm['upvote_ratio'] = music_subm['upvote_ratio'].astype('float64')\n",
    "music_subm['created_utc'] = music_subm['created_utc'].astype('int64').apply(datetime.utcfromtimestamp)\n",
    "music_subm['author_created_utc'] = music_subm['author_created_utc'].replace('NaN', 0)\\\n",
    "            .astype('float64').apply(datetime.utcfromtimestamp)\n",
    "\n",
    "\n",
    "music_subm.head()"
   ]
  },
  {
   "cell_type": "code",
   "execution_count": null,
   "metadata": {
    "ExecuteTime": {
     "end_time": "2022-10-20T14:41:05.811845Z",
     "start_time": "2022-10-20T14:40:50.522136Z"
    }
   },
   "outputs": [],
   "source": [
    "music_subm.to_sql('reddit_submissions_processed', conn, if_exists='append', index=False)"
   ]
  },
  {
   "cell_type": "markdown",
   "metadata": {},
   "source": [
    "## Adding discogs tables to db"
   ]
  },
  {
   "cell_type": "code",
   "execution_count": null,
   "metadata": {
    "ExecuteTime": {
     "end_time": "2022-10-21T02:44:28.153165Z",
     "start_time": "2022-10-21T02:44:28.126658Z"
    }
   },
   "outputs": [],
   "source": [
    "dbname = 'discogs-reddit.db'\n",
    "conn1 = sqlite3.connect(dbname)\n",
    "conn2 = sqlite3.connect('discogs-reddit4.db')\n",
    "\n",
    "pd.read_sql_query('PRAGMA table_list', conn2)"
   ]
  },
  {
   "cell_type": "code",
   "execution_count": null,
   "metadata": {
    "ExecuteTime": {
     "end_time": "2022-10-21T02:44:30.736284Z",
     "start_time": "2022-10-21T02:44:30.714034Z"
    }
   },
   "outputs": [],
   "source": [
    "pd.read_sql_query('PRAGMA table_list', conn1)"
   ]
  },
  {
   "cell_type": "code",
   "execution_count": null,
   "metadata": {
    "ExecuteTime": {
     "end_time": "2022-10-21T02:26:22.703068Z",
     "start_time": "2022-10-21T02:26:22.698182Z"
    }
   },
   "outputs": [],
   "source": [
    "releases = pd.read_sql('SELECT * FROM releases', conn2)\n",
    "print(len(releases))\n",
    "\n",
    "releases.to_sql('releases', conn1, if_exists='append', index = False)"
   ]
  },
  {
   "cell_type": "code",
   "execution_count": null,
   "metadata": {
    "ExecuteTime": {
     "end_time": "2022-10-21T02:26:25.811766Z",
     "start_time": "2022-10-21T02:26:25.807098Z"
    }
   },
   "outputs": [],
   "source": [
    "formats = pd.read_sql('SELECT * FROM formats', conn2)\n",
    "print(len(formats))\n",
    "\n",
    "formats.to_sql('formats', conn1, if_exists='append', index = False)"
   ]
  },
  {
   "cell_type": "code",
   "execution_count": null,
   "metadata": {
    "ExecuteTime": {
     "end_time": "2022-10-21T02:26:28.502355Z",
     "start_time": "2022-10-21T02:26:28.497162Z"
    }
   },
   "outputs": [],
   "source": [
    "tracks = pd.read_sql('SELECT * FROM tracks', conn2)\n",
    "print(len(tracks))\n",
    "\n",
    "tracks.to_sql('tracks', conn1, if_exists='append', index = False)"
   ]
  },
  {
   "cell_type": "code",
   "execution_count": null,
   "metadata": {
    "ExecuteTime": {
     "end_time": "2022-10-21T02:26:35.297695Z",
     "start_time": "2022-10-21T02:26:35.293068Z"
    }
   },
   "outputs": [],
   "source": [
    "companies = pd.read_sql('SELECT * FROM companies', conn2)\n",
    "print(len(companies))\n",
    "\n",
    "companies.to_sql('companies', conn1, if_exists='append', index = False)"
   ]
  },
  {
   "cell_type": "code",
   "execution_count": null,
   "metadata": {
    "ExecuteTime": {
     "end_time": "2022-10-21T02:47:26.396816Z",
     "start_time": "2022-10-21T02:45:07.309464Z"
    }
   },
   "outputs": [],
   "source": [
    "artists = pd.read_sql('SELECT * FROM artists', conn2, chunksize=100_000)\n",
    "\n",
    "for chunk_ in artists:\n",
    "    chunk_.to_sql('artists', conn1, if_exists='append', index = False)"
   ]
  },
  {
   "cell_type": "code",
   "execution_count": null,
   "metadata": {
    "ExecuteTime": {
     "end_time": "2022-10-21T02:26:38.377502Z",
     "start_time": "2022-10-21T02:26:38.373031Z"
    }
   },
   "outputs": [],
   "source": [
    "labels = pd.read_sql('SELECT * FROM labels', conn2)\n",
    "print(len(labels))\n",
    "\n",
    "labels.to_sql('labels', conn1, if_exists='replace', index = False)"
   ]
  },
  {
   "cell_type": "code",
   "execution_count": null,
   "metadata": {
    "ExecuteTime": {
     "end_time": "2022-10-21T02:48:05.333607Z",
     "start_time": "2022-10-21T02:48:05.312780Z"
    }
   },
   "outputs": [],
   "source": [
    "pd.read_sql_query('PRAGMA table_list', conn1)"
   ]
  }
 ],
 "metadata": {
  "kernelspec": {
   "display_name": "Python 3",
   "language": "python",
   "name": "python3"
  },
  "language_info": {
   "codemirror_mode": {
    "name": "ipython",
    "version": 3
   },
   "file_extension": ".py",
   "mimetype": "text/x-python",
   "name": "python",
   "nbconvert_exporter": "python",
   "pygments_lexer": "ipython3",
   "version": "3.8.3"
  }
 },
 "nbformat": 4,
 "nbformat_minor": 5
}
